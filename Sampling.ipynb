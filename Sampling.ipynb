{
  "nbformat": 4,
  "nbformat_minor": 0,
  "metadata": {
    "colab": {
      "provenance": [],
      "authorship_tag": "ABX9TyMsJ4nu4DYuQ+upcCFfjV2p",
      "include_colab_link": true
    },
    "kernelspec": {
      "name": "python3",
      "display_name": "Python 3"
    },
    "language_info": {
      "name": "python"
    }
  },
  "cells": [
    {
      "cell_type": "markdown",
      "metadata": {
        "id": "view-in-github",
        "colab_type": "text"
      },
      "source": [
        "<a href=\"https://colab.research.google.com/github/agamduggal/Predictive-Analysis/blob/main/Sampling.ipynb\" target=\"_parent\"><img src=\"https://colab.research.google.com/assets/colab-badge.svg\" alt=\"Open In Colab\"/></a>"
      ]
    },
    {
      "cell_type": "code",
      "source": [
        "import pandas as pd\n",
        "import numpy as np\n",
        "from sklearn.model_selection import train_test_split\n",
        "from sklearn.metrics import accuracy_score\n",
        "from sklearn.linear_model import LogisticRegression\n",
        "from sklearn.tree import DecisionTreeClassifier\n",
        "from sklearn.ensemble import RandomForestClassifier\n",
        "from sklearn.svm import SVC\n",
        "from sklearn.neighbors import KNeighborsClassifier\n",
        "from imblearn.over_sampling import SMOTE\n",
        "import warnings\n",
        "warnings.filterwarnings('ignore')\n",
        "\n",
        "# Load the data\n",
        "data = pd.read_csv('/content/Creditcard_data.csv')"
      ],
      "metadata": {
        "id": "4eKLvuV7kkdP"
      },
      "execution_count": 16,
      "outputs": []
    },
    {
      "cell_type": "code",
      "source": [
        "data.info()"
      ],
      "metadata": {
        "colab": {
          "base_uri": "https://localhost:8080/"
        },
        "id": "_jDZhtoepQ8n",
        "outputId": "55716cc8-b4f1-42e1-cbcd-094d0dbe06fa"
      },
      "execution_count": 19,
      "outputs": [
        {
          "output_type": "stream",
          "name": "stdout",
          "text": [
            "<class 'pandas.core.frame.DataFrame'>\n",
            "RangeIndex: 772 entries, 0 to 771\n",
            "Data columns (total 31 columns):\n",
            " #   Column  Non-Null Count  Dtype  \n",
            "---  ------  --------------  -----  \n",
            " 0   Time    772 non-null    int64  \n",
            " 1   V1      772 non-null    float64\n",
            " 2   V2      772 non-null    float64\n",
            " 3   V3      772 non-null    float64\n",
            " 4   V4      772 non-null    float64\n",
            " 5   V5      772 non-null    float64\n",
            " 6   V6      772 non-null    float64\n",
            " 7   V7      772 non-null    float64\n",
            " 8   V8      772 non-null    float64\n",
            " 9   V9      772 non-null    float64\n",
            " 10  V10     772 non-null    float64\n",
            " 11  V11     772 non-null    float64\n",
            " 12  V12     772 non-null    float64\n",
            " 13  V13     772 non-null    float64\n",
            " 14  V14     772 non-null    float64\n",
            " 15  V15     772 non-null    float64\n",
            " 16  V16     772 non-null    float64\n",
            " 17  V17     772 non-null    float64\n",
            " 18  V18     772 non-null    float64\n",
            " 19  V19     772 non-null    float64\n",
            " 20  V20     772 non-null    float64\n",
            " 21  V21     772 non-null    float64\n",
            " 22  V22     772 non-null    float64\n",
            " 23  V23     772 non-null    float64\n",
            " 24  V24     772 non-null    float64\n",
            " 25  V25     772 non-null    float64\n",
            " 26  V26     772 non-null    float64\n",
            " 27  V27     772 non-null    float64\n",
            " 28  V28     772 non-null    float64\n",
            " 29  Amount  772 non-null    float64\n",
            " 30  Class   772 non-null    int64  \n",
            "dtypes: float64(29), int64(2)\n",
            "memory usage: 187.1 KB\n"
          ]
        }
      ]
    },
    {
      "cell_type": "code",
      "source": [
        "# Prepare features and target\n",
        "X = data.drop(\"Class\", axis=1)\n",
        "y = data[\"Class\"]\n",
        "\n",
        "# Balance the dataset using SMOTE\n",
        "smote = SMOTE(random_state=42)\n",
        "X_resampled, y_resampled = smote.fit_resample(X, y)\n",
        "\n"
      ],
      "metadata": {
        "id": "Ou6o6nNVolJv"
      },
      "execution_count": 17,
      "outputs": []
    },
    {
      "cell_type": "code",
      "source": [
        "print(y.value_counts())\n"
      ],
      "metadata": {
        "colab": {
          "base_uri": "https://localhost:8080/"
        },
        "id": "LsCSBmzSpggj",
        "outputId": "8e94df57-aace-41dd-e25f-9bda38c8b6d7"
      },
      "execution_count": 22,
      "outputs": [
        {
          "output_type": "stream",
          "name": "stdout",
          "text": [
            "Class\n",
            "0    763\n",
            "1      9\n",
            "Name: count, dtype: int64\n"
          ]
        }
      ]
    },
    {
      "cell_type": "code",
      "source": [
        "print(y_resampled.value_counts())"
      ],
      "metadata": {
        "colab": {
          "base_uri": "https://localhost:8080/"
        },
        "id": "ymrlwSsmpkQ-",
        "outputId": "7a6eec3b-5591-4668-9041-7303d1d079ad"
      },
      "execution_count": 23,
      "outputs": [
        {
          "output_type": "stream",
          "name": "stdout",
          "text": [
            "Class\n",
            "0    763\n",
            "1    763\n",
            "Name: count, dtype: int64\n"
          ]
        }
      ]
    },
    {
      "cell_type": "code",
      "source": [
        "# Calculate sample size using confidence interval formula\n",
        "# Using 95% confidence level (Z=1.96), margin of error=0.05\n",
        "Z = 1.96\n",
        "p = 0.5\n",
        "E = 0.05\n",
        "N = len(X_resampled)\n",
        "sample_size = int((Z**2 * p * (1-p) * N) / (E**2 * (N-1) + Z**2 * p * (1-p)))\n",
        "\n",
        "# Define sampling techniques\n",
        "samples = {\n",
        "    \"Sampling1\": X_resampled.sample(n=sample_size, random_state=42),\n",
        "    \"Sampling2\": X_resampled.sample(n=sample_size, random_state=21),\n",
        "    \"Sampling3\": X_resampled.iloc[::len(X_resampled)//sample_size],  # Systematic sampling\n",
        "    \"Sampling4\": X_resampled.sample(n=sample_size, random_state=56),\n",
        "    \"Sampling5\": X_resampled.sample(n=sample_size, random_state=99)\n",
        "}\n",
        "\n"
      ],
      "metadata": {
        "id": "ij5bSl_IozpS"
      },
      "execution_count": 18,
      "outputs": []
    },
    {
      "cell_type": "code",
      "source": [
        "# Create sample datasets with corresponding target values\n",
        "sample_datasets = {\n",
        "    name: (sample, y_resampled.loc[sample.index])\n",
        "    for name, sample in samples.items()\n",
        "}\n",
        "\n",
        "# Define models\n",
        "models = {\n",
        "    \"M1\": LogisticRegression(max_iter=1000, random_state=42),\n",
        "    \"M2\": DecisionTreeClassifier(random_state=42),\n",
        "    \"M3\": RandomForestClassifier(random_state=42),\n",
        "    \"M4\": SVC(random_state=42),\n",
        "    \"M5\": KNeighborsClassifier()\n",
        "}\n",
        "\n"
      ],
      "metadata": {
        "id": "cxvk6sGOo295"
      },
      "execution_count": 20,
      "outputs": []
    },
    {
      "cell_type": "code",
      "source": [
        "# Initialize results dictionary\n",
        "results = {}\n",
        "\n",
        "# Train and evaluate models\n",
        "for sample_name, (X_sample, y_sample) in sample_datasets.items():\n",
        "    print(f\"Evaluating {sample_name}...\")\n",
        "    X_train, X_test, y_train, y_test = train_test_split(\n",
        "        X_sample, y_sample, test_size=0.3, random_state=42\n",
        "    )\n",
        "\n",
        "    for model_name, model in models.items():\n",
        "        model.fit(X_train, y_train)\n",
        "        predictions = model.predict(X_test)\n",
        "        accuracy = accuracy_score(y_test, predictions)\n",
        "        if sample_name not in results:\n",
        "            results[sample_name] = {}\n",
        "        results[sample_name][model_name] = accuracy * 100  # Convert to percentage\n",
        "\n"
      ],
      "metadata": {
        "colab": {
          "base_uri": "https://localhost:8080/"
        },
        "id": "E7jZ-_dWo588",
        "outputId": "463ac256-9821-47e0-cc84-089abe624f55"
      },
      "execution_count": 21,
      "outputs": [
        {
          "output_type": "stream",
          "name": "stdout",
          "text": [
            "Evaluating Sampling1...\n",
            "Evaluating Sampling2...\n",
            "Evaluating Sampling3...\n",
            "Evaluating Sampling4...\n",
            "Evaluating Sampling5...\n"
          ]
        }
      ]
    },
    {
      "cell_type": "code",
      "source": [
        "# Create results matrix\n",
        "results_matrix = pd.DataFrame(\n",
        "    [[results[sample][model] for model in models.keys()]\n",
        "     for sample in samples.keys()],\n",
        "    index=samples.keys(),\n",
        "    columns=models.keys()\n",
        ")\n",
        "\n"
      ],
      "metadata": {
        "id": "z5EEdpF3o8r9"
      },
      "execution_count": 24,
      "outputs": []
    },
    {
      "cell_type": "code",
      "source": [
        "# Print results\n",
        "print(\"\\nAccuracy Matrix (%):\")\n",
        "print(results_matrix)\n",
        "\n",
        "# Find best sampling technique for each model\n",
        "best_combinations = results_matrix.idxmax()\n",
        "print(\"\\nBest Sampling Technique for Each Model:\")\n",
        "print(best_combinations)\n",
        "\n",
        "# Save results\n",
        "results_matrix.to_csv(\"sampling_results.csv\")"
      ],
      "metadata": {
        "colab": {
          "base_uri": "https://localhost:8080/"
        },
        "id": "rQkhSvK_o_m5",
        "outputId": "f416f2b7-2935-4a0e-b3b8-07b923697215"
      },
      "execution_count": 25,
      "outputs": [
        {
          "output_type": "stream",
          "name": "stdout",
          "text": [
            "\n",
            "Accuracy Matrix (%):\n",
            "                  M1         M2          M3         M4         M5\n",
            "Sampling1  86.021505  87.096774   93.548387  65.591398  66.666667\n",
            "Sampling2  92.473118  89.247312   96.774194  74.193548  80.645161\n",
            "Sampling3  85.217391  91.304348   98.260870  64.347826  79.130435\n",
            "Sampling4  89.247312  91.397849   92.473118  72.043011  77.419355\n",
            "Sampling5  93.548387  95.698925  100.000000  73.118280  77.419355\n",
            "\n",
            "Best Sampling Technique for Each Model:\n",
            "M1    Sampling5\n",
            "M2    Sampling5\n",
            "M3    Sampling5\n",
            "M4    Sampling2\n",
            "M5    Sampling2\n",
            "dtype: object\n"
          ]
        }
      ]
    }
  ]
}